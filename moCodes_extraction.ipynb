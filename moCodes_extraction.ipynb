{
 "cells": [
  {
   "cell_type": "code",
   "execution_count": 4,
   "metadata": {},
   "outputs": [],
   "source": [
    "import PyPDF2\n",
    "import re\n",
    "import pandas as pd\n",
    "\n",
    "def extract_text_from_pdf(pdf_path):\n",
    "    # Open the PDF file in binary mode\n",
    "    with open(pdf_path, 'rb') as file:\n",
    "        # Initialize PDF reader\n",
    "        pdf_reader = PyPDF2.PdfFileReader(file)\n",
    "        text = \"\"\n",
    "\n",
    "        # Iterate through all the pages\n",
    "        for page_num in range(pdf_reader.getNumPages()):\n",
    "            # Extract text from each page\n",
    "            page = pdf_reader.getPage(page_num)\n",
    "            text += page.extract_text()\n",
    "\n",
    "    return text\n",
    "\n",
    "pdf_path = 'MO_CODES_Numerical_20191119.pdf'\n"
   ]
  },
  {
   "cell_type": "code",
   "execution_count": 5,
   "metadata": {},
   "outputs": [
    {
     "data": {
      "text/plain": [
       "['0100 Suspect Impersonate',\n",
       " '0101 Aid victim',\n",
       " '0102 Blind',\n",
       " '0103 Physically disabled',\n",
       " '0104 Customer']"
      ]
     },
     "execution_count": 5,
     "metadata": {},
     "output_type": "execute_result"
    }
   ],
   "source": [
    "# Extract text from MO Codes document\n",
    "extracted_text = extract_text_from_pdf(pdf_path)\n",
    "\n",
    "# Use regex to find all code entries (4 digits, a space, a capital letter, and any further text)\n",
    "matches = re.findall('\\d{4} [A-Z].+', extracted_text)\n",
    "\n",
    "# Some lines had extra text lumped onto to the end from another part of the PDF, so this cleans that up\n",
    "matches = [re.sub('SUSPICIOUS.+|NUMERIC.+|MO CODE.+|TRAFFIC.+|', '', x).strip() for x in matches]\n",
    "\n",
    "# Preview the matches\n",
    "matches[:5]"
   ]
  },
  {
   "cell_type": "code",
   "execution_count": 6,
   "metadata": {},
   "outputs": [
    {
     "data": {
      "text/html": [
       "<div>\n",
       "<style scoped>\n",
       "    .dataframe tbody tr th:only-of-type {\n",
       "        vertical-align: middle;\n",
       "    }\n",
       "\n",
       "    .dataframe tbody tr th {\n",
       "        vertical-align: top;\n",
       "    }\n",
       "\n",
       "    .dataframe thead th {\n",
       "        text-align: right;\n",
       "    }\n",
       "</style>\n",
       "<table border=\"1\" class=\"dataframe\">\n",
       "  <thead>\n",
       "    <tr style=\"text-align: right;\">\n",
       "      <th></th>\n",
       "      <th>code</th>\n",
       "      <th>description</th>\n",
       "    </tr>\n",
       "  </thead>\n",
       "  <tbody>\n",
       "    <tr>\n",
       "      <th>0</th>\n",
       "      <td>0100</td>\n",
       "      <td>Suspect Impersonate</td>\n",
       "    </tr>\n",
       "    <tr>\n",
       "      <th>1</th>\n",
       "      <td>0101</td>\n",
       "      <td>Aid victim</td>\n",
       "    </tr>\n",
       "    <tr>\n",
       "      <th>2</th>\n",
       "      <td>0102</td>\n",
       "      <td>Blind</td>\n",
       "    </tr>\n",
       "    <tr>\n",
       "      <th>3</th>\n",
       "      <td>0103</td>\n",
       "      <td>Physically disabled</td>\n",
       "    </tr>\n",
       "    <tr>\n",
       "      <th>4</th>\n",
       "      <td>0104</td>\n",
       "      <td>Customer</td>\n",
       "    </tr>\n",
       "    <tr>\n",
       "      <th>...</th>\n",
       "      <td>...</td>\n",
       "      <td>...</td>\n",
       "    </tr>\n",
       "    <tr>\n",
       "      <th>817</th>\n",
       "      <td>4021</td>\n",
       "      <td>T/C - Topanga</td>\n",
       "    </tr>\n",
       "    <tr>\n",
       "      <th>818</th>\n",
       "      <td>4024</td>\n",
       "      <td>T/C - Central Traffic (CTD)</td>\n",
       "    </tr>\n",
       "    <tr>\n",
       "      <th>819</th>\n",
       "      <td>4025</td>\n",
       "      <td>T/C - South Traffic (STD)</td>\n",
       "    </tr>\n",
       "    <tr>\n",
       "      <th>820</th>\n",
       "      <td>4026</td>\n",
       "      <td>T/C - Valley Traffic (VTD)</td>\n",
       "    </tr>\n",
       "    <tr>\n",
       "      <th>821</th>\n",
       "      <td>4027</td>\n",
       "      <td>T/C - West Traffic (WTD)</td>\n",
       "    </tr>\n",
       "  </tbody>\n",
       "</table>\n",
       "<p>822 rows × 2 columns</p>\n",
       "</div>"
      ],
      "text/plain": [
       "     code                  description\n",
       "0    0100          Suspect Impersonate\n",
       "1    0101                   Aid victim\n",
       "2    0102                        Blind\n",
       "3    0103          Physically disabled\n",
       "4    0104                     Customer\n",
       "..    ...                          ...\n",
       "817  4021                T/C - Topanga\n",
       "818  4024  T/C - Central Traffic (CTD)\n",
       "819  4025    T/C - South Traffic (STD)\n",
       "820  4026   T/C - Valley Traffic (VTD)\n",
       "821  4027     T/C - West Traffic (WTD)\n",
       "\n",
       "[822 rows x 2 columns]"
      ]
     },
     "execution_count": 6,
     "metadata": {},
     "output_type": "execute_result"
    }
   ],
   "source": [
    "# Separate codes from descriptions\n",
    "# Get all 4-digit numbers\n",
    "codes = [re.search('^\\d{4}', x)[0] for x in matches]\n",
    "# Get all text that comes after a 4-digit number and a space\n",
    "descriptions = [re.search('(?<=\\d{4} ).+', x)[0] for x in matches]\n",
    "\n",
    "# Make a dataframe of it\n",
    "moCodes_df = pd.DataFrame({'code': codes, 'description': descriptions})\n",
    "moCodes_df"
   ]
  },
  {
   "cell_type": "code",
   "execution_count": 7,
   "metadata": {},
   "outputs": [],
   "source": [
    "# Save as CSV in the project\n",
    "moCodes_df.to_csv('moCodes_csv.csv', index=False)"
   ]
  }
 ],
 "metadata": {
  "kernelspec": {
   "display_name": "myenv",
   "language": "python",
   "name": "python3"
  },
  "language_info": {
   "codemirror_mode": {
    "name": "ipython",
    "version": 3
   },
   "file_extension": ".py",
   "mimetype": "text/x-python",
   "name": "python",
   "nbconvert_exporter": "python",
   "pygments_lexer": "ipython3",
   "version": "3.11.9"
  }
 },
 "nbformat": 4,
 "nbformat_minor": 2
}
